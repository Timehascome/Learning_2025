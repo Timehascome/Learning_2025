{
 "cells": [
  {
   "cell_type": "code",
   "execution_count": null,
   "id": "26b0d903-a96b-4a4c-8f83-f92694db60f3",
   "metadata": {},
   "outputs": [],
   "source": [
    "#We get familiar with collections module's as below #how to declare #use them as per the needs"
   ]
  },
  {
   "cell_type": "code",
   "execution_count": 13,
   "id": "1ff8444d-0570-4892-8e10-a67bdfa87546",
   "metadata": {},
   "outputs": [],
   "source": [
    "from collections import namedtuple, defaultdict, Counter, deque\n",
    "Point = namedtuple('Points',['x','y'])\n",
    "dd = defaultdict(int)\n",
    "list_l =['a','a','a','b','b','b','b','c','c']\n",
    "c1 = Counter(list_l)\n",
    "q1 = deque(list_l)\n"
   ]
  },
  {
   "cell_type": "code",
   "execution_count": 17,
   "id": "1e586aa5-4357-4f2a-b752-3e40e5beb783",
   "metadata": {},
   "outputs": [
    {
     "name": "stdout",
     "output_type": "stream",
     "text": [
      "Points(x=10, y=11)\n",
      "defaultdict(<class 'int'>, {'a': 12, 'b': 16, 'c': 8})\n",
      "Counter({'b': 4, 'a': 3, 'c': 2})\n",
      " Counter values dict_values([3, 4, 2])\n",
      "deque(['a', 'a', 'a', 'b', 'b', 'b', 'b', 'c', 'c'])\n",
      " deques has rotate and reverse deque(['c', 'c', 'b', 'b', 'b', 'b', 'a', 'a', 'a'])\n"
     ]
    }
   ],
   "source": [
    "p1 = Point(10,11)\n",
    "print(p1)\n",
    "for i in list_l:\n",
    "    dd[i] += 1\n",
    "print(dd)    \n",
    "print(c1)\n",
    "print(f\" Counter values {c1.values()}\")\n",
    "print(q1)\n",
    "q1.reverse()\n",
    "print(f\" deques has rotate and reverse {q1}\")\n"
   ]
  }
 ],
 "metadata": {
  "kernelspec": {
   "display_name": "Python 3 (ipykernel)",
   "language": "python",
   "name": "python3"
  },
  "language_info": {
   "codemirror_mode": {
    "name": "ipython",
    "version": 3
   },
   "file_extension": ".py",
   "mimetype": "text/x-python",
   "name": "python",
   "nbconvert_exporter": "python",
   "pygments_lexer": "ipython3",
   "version": "3.11.7"
  }
 },
 "nbformat": 4,
 "nbformat_minor": 5
}
