{
 "cells": [
  {
   "cell_type": "code",
   "execution_count": 7,
   "id": "1ff8444d-0570-4892-8e10-a67bdfa87546",
   "metadata": {},
   "outputs": [
    {
     "name": "stdout",
     "output_type": "stream",
     "text": [
      "[0, 1, 2, 3, 4, 5, 6, 7, 8, 9, 10]\n",
      "(0, 1, 2, 3, 4, 5, 6, 7, 8, 9, 10)\n",
      "{'l_dt': [0, 1, 2, 3, 4, 5, 6, 7, 8, 9, 10], 't_dt': (0, 1, 2, 3, 4, 5, 6, 7, 8, 9, 10)}\n"
     ]
    }
   ],
   "source": [
    "#string, int , list, tuple, dict\n",
    "str_dt = \"abc123\"\n",
    "int_dt = 123\n",
    "list_dt = [x for x in range(0,11)] # list comprehension\n",
    "tuple_dt = tuple(list_dt)\n",
    "dict_dt = dict(l_dt=list_dt,t_dt=tuple_dt)\n",
    "print(str(list_dt) + \"\\n\" + str(tuple_dt) + \"\\n\" + str(dict_dt))\n"
   ]
  },
  {
   "cell_type": "code",
   "execution_count": 18,
   "id": "e7b6cd92-ee31-40b8-92d4-36d5bfca5162",
   "metadata": {},
   "outputs": [
    {
     "name": "stdout",
     "output_type": "stream",
     "text": [
      "[123, None, 456]\n",
      "['abc123xyz', 'def456']\n",
      "['abc12', 'onm', 'def45']\n"
     ]
    }
   ],
   "source": [
    "#some examples of comprehension\n",
    "import re\n",
    "strings = ['abc123xyz','mno','def456']\n",
    "newlist = [int(\"\".join(re.findall(r\"\\d\",s))) if re.search(r\"\\d\",s) else None for s in strings]\n",
    "print(newlist)\n",
    "\n",
    "newlist_1 = [x for x in strings if len(x) >5]\n",
    "print(newlist_1)\n",
    "\n",
    "newlist_2 = [x[::-1] if len(x)<5 else x[0:5] for x in strings]\n",
    "print(newlist_2)"
   ]
  },
  {
   "cell_type": "code",
   "execution_count": 23,
   "id": "eea57d3a-9abb-44b6-ad55-bef6b557c9a5",
   "metadata": {},
   "outputs": [
    {
     "name": "stdout",
     "output_type": "stream",
     "text": [
      "3\n",
      "7\n",
      "11\n",
      "3\n",
      "7\n",
      "11\n"
     ]
    }
   ],
   "source": [
    "#tuple/list unpacking\n",
    "tuple_up = ((1,2),(3,4),(5,6))\n",
    "list_up  = [[1,2],[3,4],[5,6]]\n",
    "for a,b in tuple_up:\n",
    "    print(a+b)\n",
    "for a,b in list_up:\n",
    "    print(a+b)    \n",
    "    "
   ]
  },
  {
   "cell_type": "code",
   "execution_count": 39,
   "id": "b193ac08-5eef-4d60-8ca1-175934d931db",
   "metadata": {},
   "outputs": [
    {
     "name": "stdout",
     "output_type": "stream",
     "text": [
      "1234567\n",
      "1234567\n",
      "7654321\n",
      "7531\n",
      "7\n",
      "123456\n",
      "123456\n",
      "12345\n"
     ]
    }
   ],
   "source": [
    "#string slicing\n",
    "string_e = \"1234567\"\n",
    "print(string_e[::])\n",
    "print(string_e[::1])\n",
    "print(string_e[::-1])\n",
    "print(string_e[::-2])\n",
    "print(string_e[6:])\n",
    "print(string_e[:6])\n",
    "print(string_e[:-1])\n",
    "\n"
   ]
  },
  {
   "cell_type": "code",
   "execution_count": 40,
   "id": "90c1a8eb-28ac-4b67-8b8f-390dd3476c8b",
   "metadata": {},
   "outputs": [
    {
     "name": "stdout",
     "output_type": "stream",
     "text": [
      "1\n",
      "2.5\n"
     ]
    }
   ],
   "source": [
    "# % is reminder / is quotient\n",
    "\n",
    "print(5%2)\n",
    "print(5/2)"
   ]
  },
  {
   "cell_type": "code",
   "execution_count": null,
   "id": "ba1fb4d8-4552-449a-a2ff-4cec984d6a36",
   "metadata": {},
   "outputs": [],
   "source": []
  }
 ],
 "metadata": {
  "kernelspec": {
   "display_name": "Python 3 (ipykernel)",
   "language": "python",
   "name": "python3"
  },
  "language_info": {
   "codemirror_mode": {
    "name": "ipython",
    "version": 3
   },
   "file_extension": ".py",
   "mimetype": "text/x-python",
   "name": "python",
   "nbconvert_exporter": "python",
   "pygments_lexer": "ipython3",
   "version": "3.11.7"
  }
 },
 "nbformat": 4,
 "nbformat_minor": 5
}
