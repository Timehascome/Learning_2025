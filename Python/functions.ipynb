{
 "cells": [
  {
   "cell_type": "code",
   "execution_count": 14,
   "id": "1ff8444d-0570-4892-8e10-a67bdfa87546",
   "metadata": {},
   "outputs": [
    {
     "name": "stdout",
     "output_type": "stream",
     "text": [
      "[1, 4, 9, 36]\n",
      "[1, 4, 9, 36]\n",
      "[1, 4, 9, 36]\n",
      "[9, 36]\n"
     ]
    }
   ],
   "source": [
    "#functions using map , filter and lambda\n",
    "def func(x):return x**2  \n",
    "list_a = [1,2,3,6]\n",
    "\n",
    "list_b = [x**2 for x in list_a]\n",
    "print(list_b)\n",
    "\n",
    "list_c = list(map(func, list_a))\n",
    "print(list_c)\n",
    "\n",
    "list_d = list(map(lambda x : x**2, list_a))\n",
    "print(list_d)\n",
    "\n",
    "list_e = list(filter(lambda x : x >5, map(func, list_a)))\n",
    "print(list_e)"
   ]
  },
  {
   "cell_type": "code",
   "execution_count": 56,
   "id": "081f89fb-82a0-4c03-9c4c-fdca4b54c831",
   "metadata": {},
   "outputs": [
    {
     "name": "stdout",
     "output_type": "stream",
     "text": [
      "['Bob', 'Charlie']\n",
      "['Bob', 'Charlie']\n"
     ]
    }
   ],
   "source": [
    "#example \n",
    "# filter on age > 30 # use map an lambda to extract and print names \n",
    "people = [\n",
    "    {'name': 'Alice', 'age': 25},\n",
    "    {'name': 'Bob', 'age': 35},\n",
    "    {'name': 'Charlie', 'age': 40},\n",
    "    {'name': 'Dave', 'age': 25},\n",
    "]\n",
    "list_name = list([x['name'] for x in people if x['age']>30])\n",
    "print(list_name)\n",
    "\n",
    "list_name_a = list(map(lambda x : x['name'],filter(lambda x: x['age']>30, people)))\n",
    "print(list_name_a)\n"
   ]
  },
  {
   "cell_type": "code",
   "execution_count": 57,
   "id": "da91b21f-8acd-4487-81df-e387803fdc8f",
   "metadata": {},
   "outputs": [
    {
     "name": "stdout",
     "output_type": "stream",
     "text": [
      "[1, 2, 3, 4]\n",
      "name : Alice\n",
      "age : 30\n",
      "(3, 4) {}\n",
      "0\n",
      "1\n",
      "2\n",
      "3\n",
      "4\n"
     ]
    }
   ],
   "source": [
    "#decorator # generator # positional arguments #args and keyword arguments #kwargs \n",
    "import functools\n",
    "def memory(func):\n",
    "    def inner(*args,**kwargs):        \n",
    "        data = func(*args)\n",
    "        return data*2\n",
    "    return inner\n",
    "\n",
    "@memory                                             # example of a decorator\n",
    "def add(x,y):\n",
    "    return x+y\n",
    "\n",
    "add(3,4)\n",
    "\n",
    "#understanding *args, **kwargs\n",
    "\n",
    "def list_agg(*args):                               # example of args\n",
    "    for i in args:\n",
    "        print(i)\n",
    "    return sum(i)/len(i)    \n",
    "\n",
    "list_a = [1,2,3,4]\n",
    "list_agg(list_a)\n",
    "\n",
    "\n",
    "def dict_agg(**kwargs):                              #example of kwargs\n",
    "    for i,j in kwargs.items():\n",
    "        print(f\"{i} : {j}\")\n",
    "        \n",
    "dict_agg(name= 'Alice',age= 30)\n",
    "\n",
    "\n",
    "\n",
    "def fun(*args,**kwargs):                             #using both\n",
    "    print(args, kwargs)\n",
    "    \n",
    "fun(3,4)\n",
    "\n",
    "\n",
    "def gen(x):\n",
    "    for i in range(0,x):\n",
    "        yield i                                      #generator\n",
    "list_gen = gen(5)\n",
    "for i in list_gen:\n",
    "    print(i)\n",
    "    "
   ]
  },
  {
   "cell_type": "code",
   "execution_count": 83,
   "id": "0231e638-bdd0-4600-9863-0e9067a321f6",
   "metadata": {},
   "outputs": [
    {
     "name": "stderr",
     "output_type": "stream",
     "text": [
      "ERROR:root:ValuerroR:could not convert string to float: 'abc'\n"
     ]
    },
    {
     "name": "stdout",
     "output_type": "stream",
     "text": [
      "[10.0, 20.0, 30.0, 40.0]\n",
      "{'sum': 100.0, 'min': 10.0, 'max': 40.0, 'avg': 25.0}\n",
      "[1.0, 2.0, 3.0]\n",
      "{'sum': 6.0, 'min': 1.0, 'max': 3.0, 'avg': 2.0}\n",
      "{'key': 'NoValues'}\n",
      "[10.0, 20.0, 30.0, 400.0]\n",
      "{'sum': 460.0, 'min': 10.0, 'max': 400.0, 'avg': 115.0}\n"
     ]
    }
   ],
   "source": [
    "#question\n",
    "import logging\n",
    "logging.basicConfig(level=logging.ERROR)\n",
    "def calculate_statistics(*args, **kwargs):\n",
    "    try:\n",
    "        numbers=[]\n",
    "        numbers.extend(args)\n",
    "        numbers.extend(kwargs.values())\n",
    "        numbers=[float(x) for x in numbers]\n",
    "        print(numbers)\n",
    "    except ValueError as e:\n",
    "        logging .error(f\"ValuerroR:{e}\")\n",
    "        return {'key': 'NoValues'}\n",
    "    except exception as e:\n",
    "        logging.error(e)\n",
    "        return {'key': 'NoValues'}\n",
    "    return {\n",
    "        'sum' : sum(numbers),\n",
    "        'min' : min(numbers),\n",
    "        'max' : max(numbers),\n",
    "        'avg' : sum(numbers)/len(numbers)\n",
    "    }    \n",
    "result_a=calculate_statistics(10,20,30,40)\n",
    "print(result_a)\n",
    "result_b=calculate_statistics(a=1,b=2,c=3)\n",
    "print(result_b)\n",
    "result_c=calculate_statistics(\"abc\",1,2)   \n",
    "print(result_c)\n",
    "result_d = calculate_statistics(10,20,a=30,b=400)\n",
    "print(result_d)\n"
   ]
  }
 ],
 "metadata": {
  "kernelspec": {
   "display_name": "Python 3 (ipykernel)",
   "language": "python",
   "name": "python3"
  },
  "language_info": {
   "codemirror_mode": {
    "name": "ipython",
    "version": 3
   },
   "file_extension": ".py",
   "mimetype": "text/x-python",
   "name": "python",
   "nbconvert_exporter": "python",
   "pygments_lexer": "ipython3",
   "version": "3.11.7"
  }
 },
 "nbformat": 4,
 "nbformat_minor": 5
}
