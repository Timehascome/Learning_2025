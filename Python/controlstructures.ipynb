{
 "cells": [
  {
   "cell_type": "code",
   "execution_count": 21,
   "id": "1ff8444d-0570-4892-8e10-a67bdfa87546",
   "metadata": {},
   "outputs": [
    {
     "name": "stdout",
     "output_type": "stream",
     "text": [
      "c is greater\n",
      "0 1 3\n",
      "720\n",
      "0\n",
      "1\n",
      "2\n",
      "3\n",
      "4\n",
      "5\n",
      "6\n",
      "7\n",
      "8\n",
      "9\n",
      "10\n",
      "012345678910\n"
     ]
    }
   ],
   "source": [
    "# if-else , if-elif-else , while, for, try-except, with\n",
    "\n",
    "a = 3\n",
    "b = 4\n",
    "c = 6\n",
    "d = 1\n",
    "f = 6\n",
    "\n",
    "if b>a and b>c:\n",
    "    print(\"b is greater\")\n",
    "elif a>b and a>c:\n",
    "    print(\"a is greater\")\n",
    "else:\n",
    "    print(\"c is greater\")\n",
    "\n",
    "\n",
    "while a>0:\n",
    "    b = b-1\n",
    "    c = c-1\n",
    "    a = a-1\n",
    "print(a,b,c)\n",
    "\n",
    "while f>0:\n",
    "    d = d*f\n",
    "    f = f-1\n",
    "print(d)    \n",
    "\n",
    "\n",
    "for i in range(0,11):\n",
    "    print(i)\n",
    "\n",
    "print(''.join(str(x) for x in range(0,11)))\n"
   ]
  },
  {
   "cell_type": "code",
   "execution_count": 36,
   "id": "32679a3a-1676-4715-8faf-68c5edf64bac",
   "metadata": {},
   "outputs": [
    {
     "name": "stdout",
     "output_type": "stream",
     "text": [
      "NameError\n",
      "ZeroDivisionError\n",
      "TypeError\n",
      "TypeError\n",
      "# python\n",
      "# AWS\n",
      "# ML/AI\n",
      "# spark\n",
      "# SQL\n",
      "# Unix\n",
      "# Snowflake\n",
      "# iceberg / delta lakes / hudi\n",
      "# latest trends\n",
      "practice makes anybody perfect!\n",
      "\n",
      "error\n"
     ]
    }
   ],
   "source": [
    "# try-except and with \n",
    "\n",
    "try:\n",
    "    print(abc)\n",
    "except Exception as e: \n",
    "    print(type(e).__name__)\n",
    "    \n",
    "try:\n",
    "    a = 10/0\n",
    "except Exception as e:  \n",
    "    print(type(e).__name__)\n",
    "    \n",
    "try:\n",
    "    with(\"\") as file:\n",
    "        print(\"ok\")\n",
    "except Exception as e:  \n",
    "    print(type(e).__name__)\n",
    "    \n",
    "try:\n",
    "    a = b[9]\n",
    "except Exception as e:  \n",
    "    print(type(e).__name__)\n",
    "\n",
    "#with\n",
    "\n",
    "with open(\"README.MD\",\"r\") as file:\n",
    "    contents = file.read()\n",
    "    print(contents)\n",
    "\n",
    "# try-except-else-finally\n",
    "\n",
    "try:\n",
    "    file = open(\"README.MD\", \"r\")\n",
    "    data = file.read()\n",
    "    result = int(data)/0\n",
    "except FileNotFoundError:\n",
    "    print(\"file not found\")\n",
    "except ValueError:\n",
    "    print(\"error\")\n",
    "else:\n",
    "    print(\"done\")\n",
    "finally:\n",
    "    file.close()\n",
    "\n",
    "\n"
   ]
  }
 ],
 "metadata": {
  "kernelspec": {
   "display_name": "Python 3 (ipykernel)",
   "language": "python",
   "name": "python3"
  },
  "language_info": {
   "codemirror_mode": {
    "name": "ipython",
    "version": 3
   },
   "file_extension": ".py",
   "mimetype": "text/x-python",
   "name": "python",
   "nbconvert_exporter": "python",
   "pygments_lexer": "ipython3",
   "version": "3.11.7"
  }
 },
 "nbformat": 4,
 "nbformat_minor": 5
}
