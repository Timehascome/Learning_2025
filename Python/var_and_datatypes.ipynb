{
 "cells": [
  {
   "cell_type": "code",
   "execution_count": 3,
   "id": "7471b586-427f-4893-a02a-00f86a118ba9",
   "metadata": {},
   "outputs": [],
   "source": [
    "a = 1\n",
    "b = 2.0\n",
    "c = \"Word\"\n",
    "list_l = [1,2,\"a\",\"bcd\"]\n",
    "tuple = (1,2,\"cvx\")\n",
    "dict = {\"a\":1,\"b\":2,\"c\":3}\n",
    "set = {1,2,3,3}"
   ]
  }
 ],
 "metadata": {
  "kernelspec": {
   "display_name": "Python 3 (ipykernel)",
   "language": "python",
   "name": "python3"
  },
  "language_info": {
   "codemirror_mode": {
    "name": "ipython",
    "version": 3
   },
   "file_extension": ".py",
   "mimetype": "text/x-python",
   "name": "python",
   "nbconvert_exporter": "python",
   "pygments_lexer": "ipython3",
   "version": "3.11.7"
  }
 },
 "nbformat": 4,
 "nbformat_minor": 5
}
